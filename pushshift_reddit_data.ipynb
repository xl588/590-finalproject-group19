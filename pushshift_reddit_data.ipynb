{
  "nbformat": 4,
  "nbformat_minor": 0,
  "metadata": {
    "colab": {
      "provenance": []
    },
    "kernelspec": {
      "name": "python3",
      "display_name": "Python 3"
    },
    "language_info": {
      "name": "python"
    }
  },
  "cells": [
    {
      "cell_type": "code",
      "execution_count": null,
      "metadata": {
        "id": "N7-xPH6fh6-4"
      },
      "outputs": [],
      "source": [
        "import numpy as np \n",
        "import pandas as pd\n",
        "import re\n",
        "from collections import Counter\n",
        "from tqdm import tqdm\n",
        "\n",
        "from psaw import PushshiftAPI    #library Pushshift\n",
        "import datetime as dt            #library for date management\n",
        "import p                         #library for data manipulation\n",
        "import matplotlib.pyplot as plt  #library for plotting\n",
        "\n",
        "import nltk\n",
        "nltk.download('stopwords')\n",
        "from nltk.corpus import stopwords\n",
        "from nltk.sentiment.vader import SentimentIntensityAnalyzer\n",
        "\n",
        "nltk.download('vader_lexicon')\n",
        "sid = SentimentIntensityAnalyzer()\n"
      ]
    },
    {
      "cell_type": "code",
      "source": [
        "!pip install psaw"
      ],
      "metadata": {
        "id": "4QgUEguXiMaR"
      },
      "execution_count": null,
      "outputs": []
    },
    {
      "cell_type": "code",
      "source": [
        "from psaw import PushshiftAPI "
      ],
      "metadata": {
        "id": "pei_LxfciOz7"
      },
      "execution_count": null,
      "outputs": []
    },
    {
      "cell_type": "code",
      "source": [
        "api = PushshiftAPI()"
      ],
      "metadata": {
        "id": "uCAEmgvAiQ7z"
      },
      "execution_count": null,
      "outputs": []
    },
    {
      "cell_type": "code",
      "source": [
        "subreddit = \"wallstreetbets\" \n",
        "start_time = int(dt.datetime(2020, 12,15).timestamp())  \n",
        "end_time = int(dt.datetime(2021, 2, 15).timestamp())     \n",
        "\n",
        "filters = ['id', 'author', 'created_utc', 'num_comments','title','selftext'] #url, domian\n",
        "\n",
        "post = list(api.search_submissions(\n",
        "     subreddit=subreddit,\n",
        "     after=start_time,\n",
        "     before=end_time,\n",
        "     filter=filters,\n",
        "     )) \n",
        "\n",
        "filters = ['id', 'author', 'created_utc','body', 'permalink', 'subreddit']\n",
        "term = \"GME\"\n",
        "comment = list(api.search_comments(\n",
        "     q=term,\n",
        "     after=start_time,\n",
        "     before=end_time,\n",
        "     filter=filters,\n",
        "     ))\n",
        "\n",
        "posts_df = pd.DataFrame(post)\n",
        "comments_df = pd.DataFrame(comment)"
      ],
      "metadata": {
        "id": "JHpTTdfNiS_0"
      },
      "execution_count": null,
      "outputs": []
    },
    {
      "cell_type": "code",
      "source": [
        "posts = pd.DataFrame(post)"
      ],
      "metadata": {
        "id": "25nJlVNkibmB"
      },
      "execution_count": null,
      "outputs": []
    },
    {
      "cell_type": "code",
      "source": [
        "comments = pd.DataFrame(comment)"
      ],
      "metadata": {
        "id": "N5ur8yFsieQt"
      },
      "execution_count": null,
      "outputs": []
    },
    {
      "cell_type": "code",
      "source": [
        "posts['full_text'] = posts['title'].astype(str) + ' ' + posts['selftext'].astype(str)\n",
        "posts['text_lenght'] = posts['full_text'].apply(lambda x: len(x))\n",
        "text_cleaned = []\n",
        "for p in posts['full_text']:\n",
        "    t = re.sub(r'^https?:\\/\\/.*[\\r\\n]*', ' ', p, flags=re.MULTILINE)\n",
        "    t = re.sub('\\s+', ' ', t)\n",
        "    t = re.sub(\"\\'\", \" \", t)\n",
        "    t = re.sub(\"nan\", \" \", t)\n",
        "    t = re.sub(\"\\[removed\\]\", \" \", t)\n",
        "    t = re.sub(\"\\[deleted\\]\",\" \",t)\n",
        "    text_cleaned.append(t)\n",
        "\n",
        "posts['full_text'] = text_cleaned"
      ],
      "metadata": {
        "id": "f4hkihj9isEY"
      },
      "execution_count": null,
      "outputs": []
    }
  ]
}